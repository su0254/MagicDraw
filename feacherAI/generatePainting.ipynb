{
 "cells": [
  {
   "cell_type": "code",
   "execution_count": 6,
   "id": "981c9d7b",
   "metadata": {},
   "outputs": [
    {
     "name": "stdout",
     "output_type": "stream",
     "text": [
      "Collecting flask-cors\n",
      "  Downloading flask_cors-6.0.0-py3-none-any.whl.metadata (961 bytes)\n",
      "Requirement already satisfied: flask>=0.9 in c:\\users\\pc\\appdata\\local\\programs\\python\\python313\\lib\\site-packages (from flask-cors) (3.1.1)\n",
      "Requirement already satisfied: Werkzeug>=0.7 in c:\\users\\pc\\appdata\\local\\programs\\python\\python313\\lib\\site-packages (from flask-cors) (3.1.3)\n",
      "Requirement already satisfied: blinker>=1.9.0 in c:\\users\\pc\\appdata\\local\\programs\\python\\python313\\lib\\site-packages (from flask>=0.9->flask-cors) (1.9.0)\n",
      "Requirement already satisfied: click>=8.1.3 in c:\\users\\pc\\appdata\\local\\programs\\python\\python313\\lib\\site-packages (from flask>=0.9->flask-cors) (8.2.0)\n",
      "Requirement already satisfied: itsdangerous>=2.2.0 in c:\\users\\pc\\appdata\\local\\programs\\python\\python313\\lib\\site-packages (from flask>=0.9->flask-cors) (2.2.0)\n",
      "Requirement already satisfied: jinja2>=3.1.2 in c:\\users\\pc\\appdata\\local\\programs\\python\\python313\\lib\\site-packages (from flask>=0.9->flask-cors) (3.1.6)\n",
      "Requirement already satisfied: markupsafe>=2.1.1 in c:\\users\\pc\\appdata\\local\\programs\\python\\python313\\lib\\site-packages (from flask>=0.9->flask-cors) (3.0.2)\n",
      "Requirement already satisfied: colorama in c:\\users\\pc\\appdata\\roaming\\python\\python313\\site-packages (from click>=8.1.3->flask>=0.9->flask-cors) (0.4.6)\n",
      "Downloading flask_cors-6.0.0-py3-none-any.whl (11 kB)\n",
      "Installing collected packages: flask-cors\n",
      "Successfully installed flask-cors-6.0.0\n",
      "Note: you may need to restart the kernel to use updated packages.\n"
     ]
    },
    {
     "name": "stderr",
     "output_type": "stream",
     "text": [
      "\n",
      "[notice] A new release of pip is available: 25.0.1 -> 25.1.1\n",
      "[notice] To update, run: python.exe -m pip install --upgrade pip\n"
     ]
    }
   ],
   "source": [
    "%pip install flask-cors\n"
   ]
  },
  {
   "cell_type": "code",
   "execution_count": null,
   "id": "df1923c1",
   "metadata": {},
   "outputs": [
    {
     "name": "stdout",
     "output_type": "stream",
     "text": [
      " * Serving Flask app '__main__'\n",
      " * Debug mode: off\n"
     ]
    },
    {
     "name": "stderr",
     "output_type": "stream",
     "text": [
      "WARNING: This is a development server. Do not use it in a production deployment. Use a production WSGI server instead.\n",
      " * Running on all addresses (0.0.0.0)\n",
      " * Running on http://127.0.0.1:5000\n",
      " * Running on http://192.168.0.2:5000\n",
      "Press CTRL+C to quit\n",
      "127.0.0.1 - - [19/May/2025 21:33:07] \"OPTIONS /color_instructions HTTP/1.1\" 200 -\n"
     ]
    },
    {
     "name": "stdout",
     "output_type": "stream",
     "text": [
      "Received image path: https://res.cloudinary.com/magicdraw/image/upload/v1743025701/moi-raskraski-lev-14-gigapixel-art-scale-2_00x %281%29.jpg.png\n",
      "Downloading image from URL: https://res.cloudinary.com/magicdraw/image/upload/v1743025701/moi-raskraski-lev-14-gigapixel-art-scale-2_00x %281%29.jpg.png\n"
     ]
    },
    {
     "name": "stderr",
     "output_type": "stream",
     "text": [
      "127.0.0.1 - - [19/May/2025 21:33:08] \"POST /color_instructions HTTP/1.1\" 500 -\n"
     ]
    }
   ],
   "source": [
    "from flask import Flask, request, jsonify\n",
    "from flask_cors import CORS  # ייבוא של CORS\n",
    "import base64\n",
    "from openai import OpenAI\n",
    "import os\n",
    "from dotenv import load_dotenv\n",
    "import requests\n",
    "\n",
    "# Load environment variables from .env file\n",
    "load_dotenv()\n",
    "\n",
    "app = Flask(__name__)\n",
    "CORS(app)  # הוספת CORS ליישום שלך\n",
    "\n",
    "API_KEY=os.getenv(\"API_KEY\")\n",
    "BASE_URL=os.getenv(\"BASE_URL\")\n",
    "client = OpenAI(\n",
    "    api_key=API_KEY,\n",
    "    base_url=BASE_URL\n",
    ")\n",
    "\n",
    "# Function to encode the image\n",
    "def image_url_to_base64(image_url):\n",
    "\n",
    "    print(f\"Downloading image from URL: {image_url}\")\n",
    "    response = requests.get(image_url)\n",
    "    if response.status_code != 200:\n",
    "        raise ValueError(\"Failed to download the image\")\n",
    "    return base64.b64encode(response.content).decode('utf-8')\n",
    "\n",
    "\n",
    "@app.route('/color_instructions', methods=['POST'])\n",
    "def color_instructions():\n",
    "    try:\n",
    "        data = request.json\n",
    "        image_path = data.get('image_path')\n",
    "        print(f\"Received image path: {image_path}\")\n",
    "        if not image_path:\n",
    "            return jsonify({\"error\": \"No image path provided\"}), 400\n",
    "\n",
    "        # Getting the base64 string\n",
    "        base64_image = image_url_to_base64(image_path)\n",
    "        print(f\"Base64 image: {base64_image}...\")  # Print the first 30 characters of the base64 string\n",
    "\n",
    "        response = client.chat.completions.create(\n",
    "            model=\"gemini-2.0-flash\",\n",
    "            messages=[\n",
    "                {\n",
    "                    \"role\": \"user\",\n",
    "                    \"content\": [\n",
    "                        {\n",
    "                            \"type\": \"text\",\n",
    "                            \"text\": \".תן לי הוראות מפורטות איך לצבוע את התמונה הנתונה, תן פרוט על כל אלמנט בתמונה באיזה צבע לצבוע אותו \",  \n",
    "                        },\n",
    "                        {\n",
    "                            \"type\": \"image_url\",\n",
    "                            \"image_url\": {\n",
    "                                \"url\": f\"data:image/jpeg;base64,{base64_image}\"\n",
    "                            },\n",
    "                        },\n",
    "                    ],\n",
    "                }\n",
    "            ],\n",
    "        )\n",
    "\n",
    "        return jsonify(response.choices[0].message.content)\n",
    "    except Exception as e:\n",
    "        return jsonify({\"error\": str(e)}), 500\n",
    "if __name__ == '__main__':\n",
    "    app.run(host='0.0.0.0', port=5000)\n"
   ]
  },
  {
   "cell_type": "code",
   "execution_count": null,
   "id": "24a10f79",
   "metadata": {},
   "outputs": [],
   "source": []
  }
 ],
 "metadata": {
  "kernelspec": {
   "display_name": "Python 3",
   "language": "python",
   "name": "python3"
  },
  "language_info": {
   "codemirror_mode": {
    "name": "ipython",
    "version": 3
   },
   "file_extension": ".py",
   "mimetype": "text/x-python",
   "name": "python",
   "nbconvert_exporter": "python",
   "pygments_lexer": "ipython3",
   "version": "3.13.3"
  }
 },
 "nbformat": 4,
 "nbformat_minor": 5
}
